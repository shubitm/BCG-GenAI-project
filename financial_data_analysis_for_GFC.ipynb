
# Financial Data Analysis for Microsoft, Tesla, and Apple

## Data Extraction

We will be extracting the key financial data from the 10-K filings of Microsoft, Tesla, and Apple. The data will include:

- Total Revenue
- Net Income
- Total Assets
- Total Liabilities
- Cash Flow from Operating Activities

This data will be collected for the last 3 fiscal years.

## Importing Libraries

We will import the required libraries to load, analyze, and visualize the financial data.

```python
import pandas as pd
import matplotlib.pyplot as plt
import seaborn as sns
```

## Load the Data

After manually extracting the data from the 10-K filings and compiling it into a CSV file, we will load the data using pandas.

```python
# Load the data
df = pd.read_csv('path_to_your_data.csv')
```

## Analyzing Trends

We will calculate the year-over-year percentage changes for Total Revenue, Net Income, Total Assets, Total Liabilities, and Cash Flow from Operating Activities.

```python
# Calculate the percentage change year-over-year
df['Revenue Growth (%)'] = df.groupby(['Company'])['Total Revenue'].pct_change() * 100
df['Net Income Growth (%)'] = df.groupby(['Company'])['Net Income'].pct_change() * 100
df['Assets Growth (%)'] = df.groupby(['Company'])['Total Assets'].pct_change() * 100
df['Liabilities Growth (%)'] = df.groupby(['Company'])['Total Liabilities'].pct_change() * 100
df['Cash Flow Growth (%)'] = df.groupby(['Company'])['Cash Flow from Operating Activities'].pct_change() * 100
```

## Data Visualization

We will create visualizations to show the trends in the financial metrics across the three companies.

```python
# Plot Revenue Growth
plt.figure(figsize=(10, 6))
sns.lineplot(data=df, x='Fiscal Year', y='Revenue Growth (%)', hue='Company')
plt.title('Year-over-Year Revenue Growth')
plt.show()
```

## Conclusion

The analysis will help us identify financial performance trends across Microsoft, Tesla, and Apple over the last three years. These insights will be crucial in developing an AI-powered chatbot for GFC.

---

This notebook will guide you through the process of extracting, analyzing, and visualizing the financial data for the task.
